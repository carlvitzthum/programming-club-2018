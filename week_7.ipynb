{
 "cells": [
  {
   "cell_type": "markdown",
   "metadata": {},
   "source": [
    "# Week 7 - Let's make a game!\n",
    "### Here's what we need to do:\n",
    "##### - Figure out what the game does\n",
    "##### - Go over an example and play\n",
    "##### - Customize!\n",
    "##### - Talk about other game ideas"
   ]
  },
  {
   "cell_type": "markdown",
   "metadata": {},
   "source": [
    "### Main code - Make sure to run this!"
   ]
  },
  {
   "cell_type": "code",
   "execution_count": 3,
   "metadata": {
    "collapsed": true
   },
   "outputs": [],
   "source": [
    "# You have to run this code!\n",
    "import random\n",
    "import time\n",
    "import copy\n",
    "\n",
    "monsters = []\n",
    "cards = []\n",
    "starting_cards = []\n",
    "\n",
    "class Player(object):\n",
    "    def __init__(self):\n",
    "        self.hp = 100\n",
    "        self.wins = 0\n",
    "        self.magic = 20\n",
    "        self.hand = []\n",
    "        self.deck = []\n",
    "        self.max_hand = 3\n",
    "        self.init_deck()\n",
    "        for i in range(self.max_hand):\n",
    "            self.draw()\n",
    "        self.enemy = new_enemy(self.wins)\n",
    "        print('You start by facing a %s' % self.enemy.name)\n",
    "    \n",
    "    def add_to_deck(self):\n",
    "        card = copy.deepcopy(random.choice(cards))\n",
    "        self.deck.append(card)\n",
    "        return card\n",
    "        \n",
    "    def init_deck(self):\n",
    "        for i in range(5):\n",
    "            card = copy.deepcopy(random.choice(starting_cards))\n",
    "            self.deck.append(card)\n",
    "        \n",
    "    def draw(self):\n",
    "        random.shuffle(self.deck)\n",
    "        draw = self.deck.pop(0)\n",
    "        self.hand.append(draw)\n",
    "        return draw\n",
    "    \n",
    "    def play(self, idx):\n",
    "        enemy = self.enemy\n",
    "        if idx.lower() == 'x':\n",
    "            print('You charged magic by 5 points')\n",
    "            self.magic += 5\n",
    "            time.sleep(0.3)\n",
    "        else:\n",
    "            try:\n",
    "                idx = int(idx)\n",
    "            except:\n",
    "                print('Bad input!')\n",
    "                return            \n",
    "            if idx > len(self.hand) - 1 or idx < 0:\n",
    "                print('Bad input!')\n",
    "                return\n",
    "            if not self.enemy:\n",
    "                return\n",
    "            card = self.hand.pop(idx)\n",
    "            card_name, power, cost = card.name, card.power, card.cost\n",
    "            if card.cost > self.magic:\n",
    "                print('Not enough magic! Use a different card.')\n",
    "                time.sleep(0.3)\n",
    "                self.hand.insert(idx, card)\n",
    "                return\n",
    "            self.deck.append(card)\n",
    "            enemy.hp -= power\n",
    "            self.magic -= cost\n",
    "            print('You use %s!' % (card_name))\n",
    "            print('The %s has %s hp left.' % (enemy.name, enemy.hp))\n",
    "            time.sleep(0.3)\n",
    "        if self.enemy.hp <= 0:\n",
    "            self.wins += 1\n",
    "            new_card = self.add_to_deck()\n",
    "            print('Nice! You defeated the %s.\\nYou learned a new move: %s\\n' % (enemy.name, new_card.name))\n",
    "            time.sleep(0.3)\n",
    "            self.enemy = new_enemy(self.wins)\n",
    "            randy = random.randint(1,3)\n",
    "            if randy == 1:\n",
    "                print('You found a wild %s. Prepare to fight!' % (enemy.name))\n",
    "            elif randy == 2:\n",
    "                print('You turn the corner and an angry %s stands before you!' % (enemy.name))\n",
    "            else:\n",
    "                print('You hear a noise. An evil %s attacks!' % (enemy.name))\n",
    "            time.sleep(0.3)\n",
    "        else:\n",
    "            attack_name, damage = enemy.attack()\n",
    "            self.hp -= damage\n",
    "            if damage > 0:\n",
    "                print('The %s attacks using %s! You take %s damage.' % (enemy.name, attack_name, damage))\n",
    "                time.sleep(0.3)\n",
    "            if self.hp <= 0:\n",
    "                print('\\nYou die to the %s! You defeated %s monsters...' % (enemy.name, self.wins))\n",
    "                time.sleep(0.3)\n",
    "                return Player()\n",
    "        if len(self.hand) < self.max_hand:\n",
    "            draw = self.draw()\n",
    "            print('You drew %s.' % (draw.name))\n",
    "        return self\n",
    "                \n",
    "    def see_hand(self):\n",
    "        print('\\n------ You ------')\n",
    "        print('HP: %s. Magic: %s. Level: %s' % (self.hp, self.magic, self.wins))\n",
    "        print('--- Your hand ---')\n",
    "        for i, card in enumerate(self.hand):\n",
    "            print('-  %s: %s. Power: %s. Cost %s.' % (i, card.name, card.power, card.cost))\n",
    "        print('-  x: charge up your magic by 5 points.')\n",
    "        print('--- --------- ---')\n",
    "                \n",
    "\n",
    "class Card(object):\n",
    "    def __init__(self, name, power, cost):\n",
    "        self.name = name\n",
    "        self.power = power\n",
    "        self.cost = cost\n",
    "    \n",
    "    def add(self):\n",
    "        cards.append(self)\n",
    "        \n",
    "    def start(self):\n",
    "        starting_cards.append(self)\n",
    "        \n",
    "        \n",
    "class Monster(object):\n",
    "    def __init__(self, name, hp, level=0):\n",
    "        self.name = name\n",
    "        self.hp = hp\n",
    "        # in form name, power\n",
    "        self.attacks = []\n",
    "        self.level = 0\n",
    "    \n",
    "    def uses(self, name, power):\n",
    "        if not isinstance(name ,str):\n",
    "            print('Attack name must be a string!')\n",
    "        elif not isinstance(power, int):\n",
    "            print('Attack name must be a number!')\n",
    "        else:\n",
    "            self.attacks.append((name, power))\n",
    "        \n",
    "    def attack(self):\n",
    "        if not self.attacks:\n",
    "            return ('flop around', 0)\n",
    "        else:\n",
    "            return random.choice(self.attacks)\n",
    "        \n",
    "    def add(self):\n",
    "        monsters.append(self)\n",
    "\n",
    "                \n",
    "def new_enemy(wins):\n",
    "    lbound = wins - 1 if wins > 0 else 0\n",
    "    ubound = wins + 2\n",
    "    possibilities = [enemy for enemy in monsters if (enemy.level <= ubound and enemy.level >= lbound)]\n",
    "    if not possibilities:\n",
    "        possibilities = monsters\n",
    "    enemy = copy.deepcopy(random.choice(possibilities))\n",
    "    return enemy\n",
    "    \n",
    "    \n",
    "def play_game():\n",
    "    if not cards or not monsters or not starting_cards:\n",
    "        print('We need to make monsters and cards!')\n",
    "        return\n",
    "    print('================\\nWelcome to the dungeon! Defeat as many monsters as you can...\\n================\\n')\n",
    "    print('--- Exit to stop, New game to start over. ---\\n')\n",
    "    player = Player()\n",
    "    while True:\n",
    "        player.see_hand()\n",
    "        time.sleep(0.3)\n",
    "        move = input('>>')\n",
    "        if move.lower() == 'exit':\n",
    "            break\n",
    "        if move.lower() == 'new game':\n",
    "            print('New game! You defeated %s monsters.' % (player.wins))\n",
    "            result = Player()\n",
    "        else:\n",
    "            result = player.play(move)\n",
    "        if result:\n",
    "            player = result\n",
    "            \n",
    "                \n",
    "        "
   ]
  },
  {
   "cell_type": "markdown",
   "metadata": {},
   "source": [
    "### Example game"
   ]
  },
  {
   "cell_type": "code",
   "execution_count": null,
   "metadata": {},
   "outputs": [
    {
     "name": "stdout",
     "output_type": "stream",
     "text": [
      "================\n",
      "Welcome to the dungeon! Defeat as many monsters as you can...\n",
      "================\n",
      "\n",
      "--- Exit to stop, New game to start over. ---\n",
      "\n",
      "You start by facing a warlock\n",
      "\n",
      "------ You ------\n",
      "HP: 100. Magic: 20\n",
      "--- Your hand ---\n",
      "-  0: burn. Power: 2. Cost 1.\n",
      "-  1: burn. Power: 2. Cost 1.\n",
      "-  2: punch. Power: 2. Cost 0.\n",
      "-  x: charge up your magic by 5 points.\n",
      "--- --------- ---\n",
      ">>0\n",
      "You use burn!\n",
      "The warlock has 98 hp left.\n",
      "The warlock attacks using cosmic blast! You take 10000 damage.\n",
      "\n",
      "You die to the warlock! You defeated 0 monsters...\n",
      "You start by facing a warlock\n",
      "\n",
      "------ You ------\n",
      "HP: 100. Magic: 20\n",
      "--- Your hand ---\n",
      "-  0: burn. Power: 2. Cost 1.\n",
      "-  1: punch. Power: 2. Cost 0.\n",
      "-  2: punch. Power: 2. Cost 0.\n",
      "-  x: charge up your magic by 5 points.\n",
      "--- --------- ---\n"
     ]
    }
   ],
   "source": [
    "### Here is a basic card and monster\n",
    "monsters = []\n",
    "cards = []\n",
    "starting_cards = []\n",
    "### Make some starting cards\n",
    "poke = Card('poke', 1, 0)\n",
    "poke.start()\n",
    "burn = Card('burn', 2, 1)\n",
    "burn.start()\n",
    "punch = Card('punch', 2, 0)\n",
    "punch.start()\n",
    "### Make some cards to play with\n",
    "doom = Card('doom', 20, 10)\n",
    "doom.add()\n",
    "slash = Card('slash', 5, 0)\n",
    "slash.add()\n",
    "sw = Card('sword whip', 7, 1)\n",
    "sw.add()\n",
    "### Make a monster\n",
    "chicken = Monster('chicken', 5, 10)\n",
    "chicken.uses('scratch', 1)\n",
    "chicken.uses('fireblast', 10)\n",
    "chicken.add()\n",
    "warlock = Monster('warlock', 100, 0)\n",
    "warlock.uses('poison throw', 10)\n",
    "warlock.uses('cosmic blast', 10000)\n",
    "warlock.add()\n",
    "### Make sure to type 'exit' when you're done\n",
    "play_game()"
   ]
  },
  {
   "cell_type": "markdown",
   "metadata": {},
   "source": [
    "### TASK: One starting card is below. Make 4 more to get a total of 5\n",
    "### BONUS POINTS: show how many cards are in the starting_cards list"
   ]
  },
  {
   "cell_type": "code",
   "execution_count": null,
   "metadata": {
    "collapsed": true
   },
   "outputs": [],
   "source": [
    "starting_cards = []\n",
    "poke = Card('poke', 1, 0)\n",
    "poke.start()\n",
    "### Add your cards"
   ]
  },
  {
   "cell_type": "markdown",
   "metadata": {},
   "source": [
    "### TASK: Make a card that is not a starting card"
   ]
  },
  {
   "cell_type": "code",
   "execution_count": null,
   "metadata": {
    "collapsed": true
   },
   "outputs": [],
   "source": [
    "cards = []\n",
    "### Add your card"
   ]
  },
  {
   "cell_type": "markdown",
   "metadata": {},
   "source": [
    "### TASK: Add 3 monsters! I made one below\n",
    "### BONUS POINTS: make more than one attack for each monster"
   ]
  },
  {
   "cell_type": "code",
   "execution_count": null,
   "metadata": {
    "collapsed": true
   },
   "outputs": [],
   "source": [
    "monsters = []\n",
    "goblin = Monster('goblin', 7, 0)\n",
    "goblin.uses('punch', 2)\n",
    "goblin.add()"
   ]
  },
  {
   "cell_type": "markdown",
   "metadata": {},
   "source": [
    "### Run your game!"
   ]
  },
  {
   "cell_type": "code",
   "execution_count": null,
   "metadata": {
    "collapsed": true
   },
   "outputs": [],
   "source": [
    "play_game()"
   ]
  }
 ],
 "metadata": {
  "kernelspec": {
   "display_name": "Python 3",
   "language": "python",
   "name": "python3"
  },
  "language_info": {
   "codemirror_mode": {
    "name": "ipython",
    "version": 3
   },
   "file_extension": ".py",
   "mimetype": "text/x-python",
   "name": "python",
   "nbconvert_exporter": "python",
   "pygments_lexer": "ipython3",
   "version": "3.6.0"
  }
 },
 "nbformat": 4,
 "nbformat_minor": 2
}
