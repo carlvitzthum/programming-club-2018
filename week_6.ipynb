{
 "cells": [
  {
   "cell_type": "markdown",
   "metadata": {},
   "source": [
    "# Week 6 - Games\n",
    "### LET'S EARN SOME BONUS POINTS!"
   ]
  },
  {
   "cell_type": "code",
   "execution_count": 19,
   "metadata": {},
   "outputs": [],
   "source": [
    "# must run this stuff\n",
    "import random\n",
    "\n",
    "class Card(object):\n",
    "    def __init__(self, suit, number):\n",
    "        self.suit = suit\n",
    "        self.number = number\n",
    "        \n",
    "    def __str__(self):\n",
    "        return '%s of %s' % (self.number, self.suit)\n",
    "\n",
    "        \n",
    "def shuffle(deck):\n",
    "    random.shuffle(deck)\n",
    "\n",
    "        \n",
    "def regularDeck():\n",
    "    deck = []\n",
    "    for suit in ['spades', 'clubs', 'hearts', 'diamonds']:\n",
    "        for number in ['2', '3', '4', '5', '6', '7', '8', '9', '10', 'J', 'Q', 'K', 'A']:\n",
    "            deck.append(Card(suit, number))\n",
    "    shuffle(deck)\n",
    "    return deck\n",
    "\n",
    "    \n",
    "def drawCard(deck):\n",
    "    card = deck.pop()\n",
    "    print('You drew a %s of %s. The deck has %s cards left.' % (card.number, card.suit, len(deck)))\n",
    "    return card\n",
    "\n",
    "def seeHand(hand):\n",
    "    print('--- Hand ---')\n",
    "    for i, card in enumerate(hand):\n",
    "        print('%s: %s of %s' % (i+1, card.number, card.suit))\n",
    "    print('------------')"
   ]
  },
  {
   "cell_type": "markdown",
   "metadata": {},
   "source": [
    "### PART 1"
   ]
  },
  {
   "cell_type": "code",
   "execution_count": 20,
   "metadata": {},
   "outputs": [
    {
     "name": "stdout",
     "output_type": "stream",
     "text": [
      "You drew a A of hearts. The deck has 51 cards left.\n",
      "hearts\n",
      "A\n",
      "--- Hand ---\n",
      "1: A of hearts\n",
      "------------\n"
     ]
    }
   ],
   "source": [
    "# this is a list!\n",
    "hand = []\n",
    "# this is a deck of cards!\n",
    "deck = regularDeck()\n",
    "# this is how we draw a card\n",
    "card = drawCard(deck)\n",
    "# these are the things that we know about a card...\n",
    "print(card.suit)\n",
    "print(card.number)\n",
    "\n",
    "# here is how you add things to a list\n",
    "hand.append(card)\n",
    "\n",
    "# check it out!\n",
    "seeHand(hand)"
   ]
  },
  {
   "cell_type": "markdown",
   "metadata": {},
   "source": [
    "### TASK 1: make a hand with 5 cards in it and see what they are\n",
    "\n",
    "### BONUS POINTS if you can figure out how to shuffle your hand.\n",
    "##### Hint: hands and decks are both just lists!"
   ]
  },
  {
   "cell_type": "code",
   "execution_count": null,
   "metadata": {},
   "outputs": [],
   "source": [
    "# write your code for task 1 here..."
   ]
  },
  {
   "cell_type": "markdown",
   "metadata": {},
   "source": [
    "### PART 2"
   ]
  },
  {
   "cell_type": "code",
   "execution_count": null,
   "metadata": {},
   "outputs": [],
   "source": [
    "# here's how you do an \"if\" statement\n",
    "if 1 == 1:\n",
    "    print('Duh.')\n",
    "    \n",
    "if 1 != 2:\n",
    "    print('Of course.')\n",
    "    \n",
    "if 2 == 2:\n",
    "    print('This is silly.')\n",
    "    \n",
    "if 3 != 2:\n",
    "    print('Wait a second...')\n",
    "else:\n",
    "    print('Swag monkey')\n",
    "\n",
    "# how could we use if statments to make a game with our cards?"
   ]
  },
  {
   "cell_type": "code",
   "execution_count": 45,
   "metadata": {},
   "outputs": [
    {
     "name": "stdout",
     "output_type": "stream",
     "text": [
      "Gotcha!\n"
     ]
    }
   ],
   "source": [
    "card1 = Card('hearts', 'A')\n",
    "card2 = Card('clubs', 'A')\n",
    "card3 = Card('spades', 'A')\n",
    "card4 = Card('diamonds', 'A')\n",
    "enemyHand = [card1, card2, card3, card4]\n",
    "if any(card.suit == 'hearts' for card in enemyHand):\n",
    "    print('Gotcha!')"
   ]
  },
  {
   "cell_type": "code",
   "execution_count": 46,
   "metadata": {},
   "outputs": [],
   "source": [
    "def takeCard(suit, number, hand):\n",
    "    for i in range(len(hand)):\n",
    "        if hand[i].suit == suit and hand[i].number == number:\n",
    "            return hand.pop(i)\n",
    "    return None"
   ]
  },
  {
   "cell_type": "code",
   "execution_count": 47,
   "metadata": {},
   "outputs": [
    {
     "name": "stdout",
     "output_type": "stream",
     "text": [
      "Gotcha!\n",
      "MY HAND:\n",
      "--- Hand ---\n",
      "1: A of hearts\n",
      "------------\n",
      "ENEMY HAND:\n",
      "--- Hand ---\n",
      "1: A of clubs\n",
      "2: A of spades\n",
      "3: A of diamonds\n",
      "------------\n"
     ]
    }
   ],
   "source": [
    "myHand = []\n",
    "card = takeCard('hearts', 'A', enemyHand)\n",
    "if card is not None:\n",
    "    print('Gotcha!')\n",
    "    myHand.append(card)\n",
    "else:\n",
    "    print('Go fish!')\n",
    "print('MY HAND:')\n",
    "seeHand(myHand)\n",
    "print('ENEMY HAND:')\n",
    "seeHand(enemyHand)"
   ]
  },
  {
   "cell_type": "markdown",
   "metadata": {},
   "source": [
    "### TASK 2: Make your hand and enemy hand from a new deck, each with 5 cards in it"
   ]
  },
  {
   "cell_type": "code",
   "execution_count": null,
   "metadata": {},
   "outputs": [],
   "source": [
    "# your code here"
   ]
  },
  {
   "cell_type": "markdown",
   "metadata": {},
   "source": [
    "### TASK 3: Try 5 times to take cards from the enemy hand and put them in your hand\n",
    "### BONUS POINTS if you use the score variable to see how many times you got their cards"
   ]
  },
  {
   "cell_type": "code",
   "execution_count": null,
   "metadata": {},
   "outputs": [],
   "source": [
    "# your code here\n",
    "score = 0"
   ]
  },
  {
   "cell_type": "markdown",
   "metadata": {},
   "source": [
    "### PART 3"
   ]
  },
  {
   "cell_type": "code",
   "execution_count": null,
   "metadata": {},
   "outputs": [],
   "source": []
  }
 ],
 "metadata": {
  "kernelspec": {
   "display_name": "Python 3",
   "language": "python",
   "name": "python3"
  },
  "language_info": {
   "codemirror_mode": {
    "name": "ipython",
    "version": 3
   },
   "file_extension": ".py",
   "mimetype": "text/x-python",
   "name": "python",
   "nbconvert_exporter": "python",
   "pygments_lexer": "ipython3",
   "version": "3.6.3"
  }
 },
 "nbformat": 4,
 "nbformat_minor": 2
}
